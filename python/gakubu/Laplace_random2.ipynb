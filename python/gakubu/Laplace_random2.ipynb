{
 "cells": [
  {
   "cell_type": "code",
   "execution_count": 1,
   "metadata": {},
   "outputs": [],
   "source": [
    "import numpy as np\n",
    "import random as rd\n",
    "import scipy.stats\n",
    "from scipy.stats import laplace_asymmetric\n",
    "import matplotlib.pyplot as plt"
   ]
  },
  {
   "cell_type": "code",
   "execution_count": 7,
   "metadata": {},
   "outputs": [],
   "source": [
    "class bankruptcy_probability():\n",
    "    def __init__(self,alpha,beta,premium,risk_process,initial_assets):\n",
    "        self.alpha=alpha\n",
    "        self.beta=beta\n",
    "        self.premium=premium\n",
    "        self.risk_process=risk_process\n",
    "        self.initial_assets=initial_assets\n",
    "        self.gamma=(premium*alpha-beta)/premium\n",
    "        self.lam=((alpha*beta)/premium)**(1/2)\n",
    "        self.kappa=(beta/(alpha*premium))**(1/2)\n",
    "    def R(self,claim):\n",
    "        R=0\n",
    "        #100回同じ動作をする\n",
    "        for i in range(claim):\n",
    "            #指数分布に従う確率変数の生成\n",
    "            S=rd.expovariate(self.alpha)\n",
    "            T=rd.expovariate(self.beta)\n",
    "            #Δ_iの和を計算する\n",
    "            R+=S-self.premium*T\n",
    "        return R\n",
    "    #引数は配列でrvsを入れる\n",
    "    def Y(self,rvs):\n",
    "        #ランダムウォークが初期資産を超える最初の時刻\n",
    "        #rvsの長さの分だけ処理する\n",
    "        for i in range(len(rvs)):\n",
    "            #ランダムウォークの初期値を0にする\n",
    "            S=0\n",
    "            #i番目までの配列を足す\n",
    "            for j in range(i+1):\n",
    "                S+=rvs[j]\n",
    "            if S>self.initial_assets:\n",
    "                return np.exp(-self.gamma*(S-self.initial_assets))\n",
    "        return 0\n",
    "    def P(self,m,n):\n",
    "        P=0\n",
    "        for i in range(m):\n",
    "            P+=self.Y(laplace_asymmetric.rvs(self.kappa,loc=0,scale=self.lam,size=n))\n",
    "        P=P*np.exp(-self.initial_assets)/m\n",
    "        return P\n",
    "    \n",
    "        "
   ]
  },
  {
   "cell_type": "code",
   "execution_count": 8,
   "metadata": {},
   "outputs": [],
   "source": [
    "aaa=bankruptcy_probability(4,2,1,0,1)"
   ]
  },
  {
   "cell_type": "code",
   "execution_count": 9,
   "metadata": {},
   "outputs": [
    {
     "name": "stdout",
     "output_type": "stream",
     "text": [
      "0.03500420383527474\n"
     ]
    }
   ],
   "source": [
    "print(aaa.P(100,100))"
   ]
  },
  {
   "cell_type": "code",
   "execution_count": null,
   "metadata": {},
   "outputs": [],
   "source": []
  }
 ],
 "metadata": {
  "kernelspec": {
   "display_name": "Python 3",
   "language": "python",
   "name": "python3"
  },
  "language_info": {
   "codemirror_mode": {
    "name": "ipython",
    "version": 3
   },
   "file_extension": ".py",
   "mimetype": "text/x-python",
   "name": "python",
   "nbconvert_exporter": "python",
   "pygments_lexer": "ipython3",
   "version": "3.10.11"
  },
  "orig_nbformat": 4
 },
 "nbformat": 4,
 "nbformat_minor": 2
}
