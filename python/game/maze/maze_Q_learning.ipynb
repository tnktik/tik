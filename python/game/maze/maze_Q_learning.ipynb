{
 "cells": [
  {
   "cell_type": "code",
   "execution_count": 1,
   "metadata": {},
   "outputs": [
    {
     "name": "stdout",
     "output_type": "stream",
     "text": [
      "pygame 2.5.2 (SDL 2.28.3, Python 3.10.11)\n",
      "Hello from the pygame community. https://www.pygame.org/contribute.html\n"
     ]
    }
   ],
   "source": [
    "from maze_env import *\n",
    "import sys\n",
    "import pygame \n",
    "from pygame.locals import *\n",
    "import numpy as np\n",
    "from create_maze import maze\n",
    "import time\n",
    "import shelve"
   ]
  },
  {
   "cell_type": "code",
   "execution_count": 2,
   "metadata": {},
   "outputs": [],
   "source": [
    "height=5\n",
    "width=5\n",
    "start_pos=(2,2)\n",
    "goal_pos=(height*2,width*2)"
   ]
  },
  {
   "cell_type": "code",
   "execution_count": 3,
   "metadata": {},
   "outputs": [
    {
     "name": "stdout",
     "output_type": "stream",
     "text": [
      "7 8\n",
      "3 6\n"
     ]
    },
    {
     "data": {
      "text/plain": [
       "array([[0., 0., 0., 0., 0., 0., 0., 0., 0., 0., 0., 0., 0.],\n",
       "       [0., 1., 1., 1., 1., 1., 1., 1., 1., 1., 1., 1., 0.],\n",
       "       [0., 1., 2., 0., 0., 0., 0., 1., 0., 0., 0., 1., 0.],\n",
       "       [0., 1., 1., 1., 1., 1., 0., 1., 1., 1., 0., 1., 0.],\n",
       "       [0., 1., 0., 0., 0., 0., 0., 0., 0., 0., 0., 1., 0.],\n",
       "       [0., 1., 0., 1., 1., 1., 1., 1., 1., 1., 1., 1., 0.],\n",
       "       [0., 1., 0., 0., 0., 0., 0., 0., 0., 0., 0., 1., 0.],\n",
       "       [0., 1., 0., 1., 0., 1., 1., 1., 1., 1., 0., 1., 0.],\n",
       "       [0., 1., 0., 1., 0., 0., 0., 0., 0., 0., 0., 1., 0.],\n",
       "       [0., 1., 0., 1., 1., 1., 1., 1., 0., 1., 1., 1., 0.],\n",
       "       [0., 1., 0., 0., 0., 0., 0., 0., 0., 0., 3., 1., 0.],\n",
       "       [0., 1., 1., 1., 1., 1., 1., 1., 1., 1., 1., 1., 0.],\n",
       "       [0., 0., 0., 0., 0., 0., 0., 0., 0., 0., 0., 0., 0.]])"
      ]
     },
     "execution_count": 3,
     "metadata": {},
     "output_type": "execute_result"
    }
   ],
   "source": [
    "#迷路ぱらめーた(高さ,横)\n",
    "m=maze(height,width)\n",
    "m.create(start_pos[0],start_pos[1])\n",
    "m.set_goal_pos(goal_pos[0],goal_pos[1])\n",
    "m.set_player(start_pos[0],start_pos[1])\n",
    "m.break_wall(2)\n",
    "m.Panel\n"
   ]
  },
  {
   "cell_type": "code",
   "execution_count": 9,
   "metadata": {},
   "outputs": [
    {
     "name": "stdout",
     "output_type": "stream",
     "text": [
      "10\n"
     ]
    }
   ],
   "source": [
    "# 何回ゴールするか\n",
    "EPISODE_MAX = 1000\n",
    "# ゴールまでの打ち切りステップ数\n",
    "STEP_MAX = 2000\n",
    "# 学習率\n",
    "LEARNING_RATE = 0.1\n",
    "# 割引率\n",
    "DISCOUNT_RATE = 0.95\n",
    "# 描画スピード\n",
    "SLEEP_TIME = 0.001\n",
    "q_learn = Q_learning(m.Panel,LEARNING_RATE,DISCOUNT_RATE) \n"
   ]
  },
  {
   "cell_type": "code",
   "execution_count": 11,
   "metadata": {},
   "outputs": [
    {
     "name": "stdout",
     "output_type": "stream",
     "text": [
      "episode : 0 step : 229 \n",
      "episode : 100 step : 24 \n",
      "episode : 200 step : 26 \n",
      "episode : 300 step : 28 \n",
      "episode : 400 step : 27 \n",
      "episode : 500 step : 26 \n",
      "episode : 600 step : 24 \n",
      "episode : 700 step : 24 \n",
      "episode : 800 step : 40 \n",
      "episode : 900 step : 24 \n"
     ]
    }
   ],
   "source": [
    "for episode in range(EPISODE_MAX):\n",
    "    step = 0\n",
    "    m.reset()\n",
    "    # ランダムに最善でない行動を取る\n",
    "    random_rate = 0.01 + 0.9 / (1 + episode)\n",
    "    while not m.clear and step < STEP_MAX:\n",
    "                # エージェントの1ステップ(行動、評価値の更新)\n",
    "        # 行動の選択。ベストアクションとは限らない。\n",
    "        action=q_learn.select_action(random_rate)\n",
    "        # 選択された行動に従い動く。ただし、壁がある場合は無視される\n",
    "        m.move(action)\n",
    "        # 移動後の状態を取得\n",
    "        next_state=find(m.Panel,2)\n",
    "        if q_learn.state==next_state:\n",
    "            pass\n",
    "        else:\n",
    "            step += 1\n",
    "\n",
    "        # ベストアクションを選択\n",
    "        next_action = q_learn.Q[:,q_learn.state[0],q_learn.state[1]].argmax()\n",
    "        # Q[s][a] += 学習率 * ( 報酬 + 割引率 * ( max_{s'} Q[s'][a'] ) - Q[s][a] )aaaa\n",
    "        q_learn.Q[action][q_learn.state[0]][q_learn.state[1]]+=q_learn.learning_rate*(q_learn.reward(m.clear)+\n",
    "                                                                          q_learn.discount_rate*q_learn.Q[next_action][next_state[0]][next_state[1]]-\n",
    "                                                                          q_learn.Q[action][q_learn.state[0]][q_learn.state[1]])\n",
    "        # 移動後の状態を現在の状態に記録\n",
    "        q_learn.state = next_state\n",
    "        # 迷路描\n",
    "\n",
    "    if episode%100==0:\n",
    "        print(f\"episode : {episode} step : {step} \")"
   ]
  },
  {
   "cell_type": "code",
   "execution_count": 6,
   "metadata": {},
   "outputs": [],
   "source": [
    "from pygame.locals import *"
   ]
  },
  {
   "cell_type": "code",
   "execution_count": 12,
   "metadata": {},
   "outputs": [
    {
     "ename": "SystemExit",
     "evalue": "",
     "output_type": "error",
     "traceback": [
      "An exception has occurred, use %tb to see the full traceback.\n",
      "\u001b[1;31mSystemExit\u001b[0m\n"
     ]
    }
   ],
   "source": [
    "panel_size=15\n",
    "step=0\n",
    "m.reset()\n",
    "#画面描く\n",
    "pygame.init()\n",
    "screen=pygame.display.set_mode((800,600))\n",
    "#タイトル\n",
    "pygame.display.set_caption(\"迷路\")\n",
    "surface=pygame.Surface(screen.get_size(),pygame.HWACCEL)\n",
    "font=pygame.font.SysFont(\"Arial\",50)\n",
    "\n",
    "while(True):\n",
    "    #操作するもの\n",
    "    \n",
    "    screen.blit(surface,(0,0))\n",
    "    \n",
    "    #枠組み(10,20)ブロック\n",
    "    #1ブロックあたり20ピクセル\n",
    "    #色をつける。\n",
    "    for i in range(m.Panel.shape[0]):\n",
    "        for j in range(m.Panel.shape[1]):\n",
    "            if m.Panel[i][j]==0:\n",
    "                color=(0,0,0)\n",
    "            if m.Panel[i][j]==1:\n",
    "                color=(255,255,255)\n",
    "            if m.Panel[i][j]==2:\n",
    "                color=(100,100,0)\n",
    "            if m.Panel[i][j]==3:\n",
    "                color=(100,0,100)\n",
    "            if m.Panel[i][j]==-1:\n",
    "                color=(0,50,0)\n",
    "            pygame.draw.rect(surface,color,(panel_size*j+panel_size,panel_size*i+panel_size,panel_size,panel_size))\n",
    "    #ステップ表示\n",
    "    text=font.render(str(step),True,(0,0,200))\n",
    "    surface.blit(text,(10,10))\n",
    "    #ゴールした場合\n",
    "    if m.clear==True:\n",
    "        text=font.render(\"CLEAR!  STEP:\"+str(step),True,(250,250,0))\n",
    "        surface.blit(text,(200,300))\n",
    "\n",
    "    pygame.time.wait(10)\n",
    "    pygame.display.update()\n",
    "\n",
    "    #操作キー\n",
    "    for event in pygame.event.get():\n",
    "        if event.type==QUIT:\n",
    "            pygame.quit()\n",
    "            sys.exit()\n",
    "        if event.type==KEYDOWN:\n",
    "            if event.key==K_ESCAPE:\n",
    "                pygame.quit()\n",
    "                sys.exit()\n",
    "    #移動キー\n",
    "    action=q_learn.select_action(random_rate)\n",
    "    time.sleep(0.2)\n",
    "    if m.clear==False:\n",
    "        m.move(action)\n",
    "        # 移動後の状態を取得\n",
    "        next_state=find(m.Panel,2)\n",
    "        if q_learn.state==next_state:\n",
    "            pass\n",
    "        else:\n",
    "            step+=1\n",
    "\n",
    "        # ベストアクションを選択\n",
    "        next_action = q_learn.Q[:,q_learn.state[0],q_learn.state[1]].argmax()\n",
    "        # Q[s][a] += 学習率 * ( 報酬 + 割引率 * ( max_{s'} Q[s'][a'] ) - Q[s][a] )aaaa\n",
    "        q_learn.Q[action][q_learn.state[0]][q_learn.state[1]]+=q_learn.learning_rate*(q_learn.reward(m.clear)+\n",
    "                                                                          q_learn.discount_rate*q_learn.Q[next_action][next_state[0]][next_state[1]]-\n",
    "                                                                          q_learn.Q[action][q_learn.state[0]][q_learn.state[1]])\n",
    "        # 移動後の状態を現在の状態に記録\n",
    "        q_learn.state = next_state"
   ]
  },
  {
   "cell_type": "code",
   "execution_count": null,
   "metadata": {},
   "outputs": [],
   "source": []
  },
  {
   "cell_type": "code",
   "execution_count": 2,
   "metadata": {},
   "outputs": [],
   "source": []
  },
  {
   "cell_type": "code",
   "execution_count": 4,
   "metadata": {},
   "outputs": [
    {
     "data": {
      "text/plain": [
       "array([[0., 0., 0., 0., 0., 0., 0., 0., 0., 0., 0., 0., 0., 0., 0.],\n",
       "       [0., 1., 1., 1., 1., 1., 1., 1., 1., 1., 1., 1., 1., 1., 0.],\n",
       "       [0., 1., 0., 1., 0., 0., 0., 0., 0., 0., 0., 1., 0., 1., 0.],\n",
       "       [0., 1., 0., 1., 1., 1., 1., 1., 1., 1., 0., 1., 0., 1., 0.],\n",
       "       [0., 1., 0., 1., 0., 0., 0., 0., 0., 1., 0., 1., 0., 1., 0.],\n",
       "       [0., 1., 0., 1., 0., 1., 1., 1., 0., 1., 0., 1., 0., 1., 0.],\n",
       "       [0., 1., 0., 0., 0., 1., 0., 0., 0., 1., 0., 1., 0., 1., 0.],\n",
       "       [0., 1., 1., 1., 0., 1., 0., 1., 1., 1., 0., 1., 0., 1., 0.],\n",
       "       [0., 1., 0., 1., 0., 1., 0., 0., 0., 0., 0., 0., 0., 1., 0.],\n",
       "       [0., 1., 0., 1., 0., 1., 1., 1., 0., 1., 1., 1., 1., 1., 0.],\n",
       "       [0., 1., 0., 0., 0., 1., 0., 1., 0., 0., 0., 0., 0., 1., 0.],\n",
       "       [0., 1., 0., 1., 1., 1., 0., 1., 1., 1., 1., 1., 0., 1., 0.],\n",
       "       [0., 1., 2., 0., 0., 1., 0., 0., 0., 0., 0., 0., 3., 1., 0.],\n",
       "       [0., 1., 1., 1., 1., 1., 1., 1., 1., 1., 1., 1., 1., 1., 0.],\n",
       "       [0., 0., 0., 0., 0., 0., 0., 0., 0., 0., 0., 0., 0., 0., 0.]])"
      ]
     },
     "execution_count": 4,
     "metadata": {},
     "output_type": "execute_result"
    }
   ],
   "source": []
  },
  {
   "cell_type": "code",
   "execution_count": null,
   "metadata": {},
   "outputs": [],
   "source": []
  }
 ],
 "metadata": {
  "kernelspec": {
   "display_name": "Python 3",
   "language": "python",
   "name": "python3"
  },
  "language_info": {
   "codemirror_mode": {
    "name": "ipython",
    "version": 3
   },
   "file_extension": ".py",
   "mimetype": "text/x-python",
   "name": "python",
   "nbconvert_exporter": "python",
   "pygments_lexer": "ipython3",
   "version": "3.10.11"
  },
  "orig_nbformat": 4
 },
 "nbformat": 4,
 "nbformat_minor": 2
}
